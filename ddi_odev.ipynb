{
 "cells": [
  {
   "cell_type": "code",
   "execution_count": 1,
   "id": "35cc0b45",
   "metadata": {},
   "outputs": [
    {
     "name": "stdout",
     "output_type": "stream",
     "text": [
      "Requirement already satisfied: praw in /opt/anaconda3/lib/python3.9/site-packages (7.6.1)\n",
      "Requirement already satisfied: prawcore<3,>=2.1 in /opt/anaconda3/lib/python3.9/site-packages (from praw) (2.3.0)\n",
      "Requirement already satisfied: update-checker>=0.18 in /opt/anaconda3/lib/python3.9/site-packages (from praw) (0.18.0)\n",
      "Requirement already satisfied: websocket-client>=0.54.0 in /opt/anaconda3/lib/python3.9/site-packages (from praw) (0.58.0)\n",
      "Requirement already satisfied: requests<3.0,>=2.6.0 in /opt/anaconda3/lib/python3.9/site-packages (from prawcore<3,>=2.1->praw) (2.28.1)\n",
      "Requirement already satisfied: six in /opt/anaconda3/lib/python3.9/site-packages (from websocket-client>=0.54.0->praw) (1.16.0)\n",
      "Requirement already satisfied: charset-normalizer<3,>=2 in /opt/anaconda3/lib/python3.9/site-packages (from requests<3.0,>=2.6.0->prawcore<3,>=2.1->praw) (2.0.4)\n",
      "Requirement already satisfied: certifi>=2017.4.17 in /opt/anaconda3/lib/python3.9/site-packages (from requests<3.0,>=2.6.0->prawcore<3,>=2.1->praw) (2022.9.24)\n",
      "Requirement already satisfied: urllib3<1.27,>=1.21.1 in /opt/anaconda3/lib/python3.9/site-packages (from requests<3.0,>=2.6.0->prawcore<3,>=2.1->praw) (1.26.11)\n",
      "Requirement already satisfied: idna<4,>=2.5 in /opt/anaconda3/lib/python3.9/site-packages (from requests<3.0,>=2.6.0->prawcore<3,>=2.1->praw) (3.3)\n",
      "Requirement already satisfied: nltk in /opt/anaconda3/lib/python3.9/site-packages (3.7)\n",
      "Requirement already satisfied: click in /opt/anaconda3/lib/python3.9/site-packages (from nltk) (8.0.4)\n",
      "Requirement already satisfied: joblib in /opt/anaconda3/lib/python3.9/site-packages (from nltk) (1.1.0)\n",
      "Requirement already satisfied: tqdm in /opt/anaconda3/lib/python3.9/site-packages (from nltk) (4.64.1)\n",
      "Requirement already satisfied: regex>=2021.8.3 in /opt/anaconda3/lib/python3.9/site-packages (from nltk) (2022.7.9)\n"
     ]
    }
   ],
   "source": [
    "!pip install praw\n",
    "!pip install nltk\n",
    "from pprint import pprint\n",
    "import pandas as pd\n",
    "import numpy as np\n",
    "import matplotlib.pyplot as plt\n",
    "import seaborn as sns"
   ]
  },
  {
   "cell_type": "code",
   "execution_count": 4,
   "id": "455b5804",
   "metadata": {},
   "outputs": [],
   "source": [
    "import praw\n",
    "\n",
    "user_agent = \"mehmet\"\n",
    "reddit = praw.Reddit(\n",
    "    client_id=\"Ye-w2NacdkLqPahXW4kkug\",\n",
    "    client_secret=\"n-xmLy66o7cf_UBoRut9-H3Q9S8ZLw\",\n",
    "    user_agent=user_agent\n",
    ")"
   ]
  },
  {
   "cell_type": "code",
   "execution_count": 5,
   "id": "e56a666b",
   "metadata": {},
   "outputs": [
    {
     "name": "stdout",
     "output_type": "stream",
     "text": [
      "760\n"
     ]
    }
   ],
   "source": [
    "headlines = set()\n",
    "for submission in reddit.subreddit('nba').hot(limit=None):\n",
    "    headlines.add(submission.title)\n",
    "print(len(headlines))"
   ]
  },
  {
   "cell_type": "code",
   "execution_count": 6,
   "id": "bc7209d2",
   "metadata": {},
   "outputs": [
    {
     "data": {
      "text/html": [
       "<div>\n",
       "<style scoped>\n",
       "    .dataframe tbody tr th:only-of-type {\n",
       "        vertical-align: middle;\n",
       "    }\n",
       "\n",
       "    .dataframe tbody tr th {\n",
       "        vertical-align: top;\n",
       "    }\n",
       "\n",
       "    .dataframe thead th {\n",
       "        text-align: right;\n",
       "    }\n",
       "</style>\n",
       "<table border=\"1\" class=\"dataframe\">\n",
       "  <thead>\n",
       "    <tr style=\"text-align: right;\">\n",
       "      <th></th>\n",
       "      <th>0</th>\n",
       "    </tr>\n",
       "  </thead>\n",
       "  <tbody>\n",
       "    <tr>\n",
       "      <th>0</th>\n",
       "      <td>[Lewenberg] Over the weekend, Nurse held indiv...</td>\n",
       "    </tr>\n",
       "    <tr>\n",
       "      <th>1</th>\n",
       "      <td>The Denver Nuggets went on a 19-0 run to go up...</td>\n",
       "    </tr>\n",
       "    <tr>\n",
       "      <th>2</th>\n",
       "      <td>[StatMuse] Jaren Jackson Jr tonight: 31 PTS 10...</td>\n",
       "    </tr>\n",
       "    <tr>\n",
       "      <th>3</th>\n",
       "      <td>Field Goals Made Unassisted % for each of the ...</td>\n",
       "    </tr>\n",
       "    <tr>\n",
       "      <th>4</th>\n",
       "      <td>[Highlight] Giannis nearly ends Daniel Gafford...</td>\n",
       "    </tr>\n",
       "  </tbody>\n",
       "</table>\n",
       "</div>"
      ],
      "text/plain": [
       "                                                   0\n",
       "0  [Lewenberg] Over the weekend, Nurse held indiv...\n",
       "1  The Denver Nuggets went on a 19-0 run to go up...\n",
       "2  [StatMuse] Jaren Jackson Jr tonight: 31 PTS 10...\n",
       "3  Field Goals Made Unassisted % for each of the ...\n",
       "4  [Highlight] Giannis nearly ends Daniel Gafford..."
      ]
     },
     "execution_count": 6,
     "metadata": {},
     "output_type": "execute_result"
    }
   ],
   "source": [
    "df = pd.DataFrame(headlines)\n",
    "df.head()"
   ]
  },
  {
   "cell_type": "code",
   "execution_count": 7,
   "id": "afa52ddc",
   "metadata": {},
   "outputs": [],
   "source": [
    "df.to_csv('konular.csv', header=False, encoding='utf-8', index=False)"
   ]
  },
  {
   "cell_type": "code",
   "execution_count": 8,
   "id": "4507d8df",
   "metadata": {},
   "outputs": [
    {
     "name": "stderr",
     "output_type": "stream",
     "text": [
      "[nltk_data] Downloading package vader_lexicon to\n",
      "[nltk_data]     /Users/keremaylanc/nltk_data...\n",
      "[nltk_data]   Package vader_lexicon is already up-to-date!\n"
     ]
    },
    {
     "data": {
      "text/plain": [
       "True"
      ]
     },
     "execution_count": 8,
     "metadata": {},
     "output_type": "execute_result"
    }
   ],
   "source": [
    "import nltk\n",
    "nltk.download('vader_lexicon')"
   ]
  },
  {
   "cell_type": "code",
   "execution_count": 9,
   "id": "20277062",
   "metadata": {},
   "outputs": [
    {
     "name": "stdout",
     "output_type": "stream",
     "text": [
      "[{'compound': 0.2732,\n",
      "  'konu': '[Lewenberg] Over the weekend, Nurse held individual meetings with many of his players '\n",
      "          'and coaches, conversations that were described as “intense” and weren’t universally '\n",
      "          'well received.',\n",
      "  'neg': 0.0,\n",
      "  'neu': 0.923,\n",
      "  'pos': 0.077},\n",
      " {'compound': 0.0,\n",
      "  'konu': 'The Denver Nuggets went on a 19-0 run to go up 38 on the Clippers',\n",
      "  'neg': 0.0,\n",
      "  'neu': 1.0,\n",
      "  'pos': 0.0},\n",
      " {'compound': 0.0,\n",
      "  'konu': '[StatMuse] Jaren Jackson Jr tonight: 31 PTS 10 REB 3 BLK 12-14 FG +20 First Grizzlies '\n",
      "          'player with a 30/10 game on 80 FG% since Pau Gasol.',\n",
      "  'neg': 0.0,\n",
      "  'neu': 1.0,\n",
      "  'pos': 0.0}]\n"
     ]
    }
   ],
   "source": [
    "from nltk.sentiment.vader import SentimentIntensityAnalyzer as Dosya\n",
    "veri = Dosya()\n",
    "results = []\n",
    "\n",
    "for line in headlines:\n",
    "    pol_score = veri.polarity_scores(line)\n",
    "    pol_score['konu'] = line\n",
    "    results.append(pol_score)\n",
    "    \n",
    "pprint(results[:3], width=100)"
   ]
  },
  {
   "cell_type": "code",
   "execution_count": 10,
   "id": "c328274e",
   "metadata": {},
   "outputs": [
    {
     "data": {
      "text/html": [
       "<div>\n",
       "<style scoped>\n",
       "    .dataframe tbody tr th:only-of-type {\n",
       "        vertical-align: middle;\n",
       "    }\n",
       "\n",
       "    .dataframe tbody tr th {\n",
       "        vertical-align: top;\n",
       "    }\n",
       "\n",
       "    .dataframe thead th {\n",
       "        text-align: right;\n",
       "    }\n",
       "</style>\n",
       "<table border=\"1\" class=\"dataframe\">\n",
       "  <thead>\n",
       "    <tr style=\"text-align: right;\">\n",
       "      <th></th>\n",
       "      <th>neg</th>\n",
       "      <th>neu</th>\n",
       "      <th>pos</th>\n",
       "      <th>compound</th>\n",
       "      <th>konu</th>\n",
       "    </tr>\n",
       "  </thead>\n",
       "  <tbody>\n",
       "    <tr>\n",
       "      <th>0</th>\n",
       "      <td>0.00</td>\n",
       "      <td>0.923</td>\n",
       "      <td>0.077</td>\n",
       "      <td>0.2732</td>\n",
       "      <td>[Lewenberg] Over the weekend, Nurse held indiv...</td>\n",
       "    </tr>\n",
       "    <tr>\n",
       "      <th>1</th>\n",
       "      <td>0.00</td>\n",
       "      <td>1.000</td>\n",
       "      <td>0.000</td>\n",
       "      <td>0.0000</td>\n",
       "      <td>The Denver Nuggets went on a 19-0 run to go up...</td>\n",
       "    </tr>\n",
       "    <tr>\n",
       "      <th>2</th>\n",
       "      <td>0.00</td>\n",
       "      <td>1.000</td>\n",
       "      <td>0.000</td>\n",
       "      <td>0.0000</td>\n",
       "      <td>[StatMuse] Jaren Jackson Jr tonight: 31 PTS 10...</td>\n",
       "    </tr>\n",
       "    <tr>\n",
       "      <th>3</th>\n",
       "      <td>0.21</td>\n",
       "      <td>0.700</td>\n",
       "      <td>0.090</td>\n",
       "      <td>-0.5267</td>\n",
       "      <td>Field Goals Made Unassisted % for each of the ...</td>\n",
       "    </tr>\n",
       "    <tr>\n",
       "      <th>4</th>\n",
       "      <td>0.18</td>\n",
       "      <td>0.820</td>\n",
       "      <td>0.000</td>\n",
       "      <td>-0.2960</td>\n",
       "      <td>[Highlight] Giannis nearly ends Daniel Gafford...</td>\n",
       "    </tr>\n",
       "  </tbody>\n",
       "</table>\n",
       "</div>"
      ],
      "text/plain": [
       "    neg    neu    pos  compound  \\\n",
       "0  0.00  0.923  0.077    0.2732   \n",
       "1  0.00  1.000  0.000    0.0000   \n",
       "2  0.00  1.000  0.000    0.0000   \n",
       "3  0.21  0.700  0.090   -0.5267   \n",
       "4  0.18  0.820  0.000   -0.2960   \n",
       "\n",
       "                                                konu  \n",
       "0  [Lewenberg] Over the weekend, Nurse held indiv...  \n",
       "1  The Denver Nuggets went on a 19-0 run to go up...  \n",
       "2  [StatMuse] Jaren Jackson Jr tonight: 31 PTS 10...  \n",
       "3  Field Goals Made Unassisted % for each of the ...  \n",
       "4  [Highlight] Giannis nearly ends Daniel Gafford...  "
      ]
     },
     "execution_count": 10,
     "metadata": {},
     "output_type": "execute_result"
    }
   ],
   "source": [
    "df = pd.DataFrame.from_records(results)\n",
    "df.head()"
   ]
  },
  {
   "cell_type": "code",
   "execution_count": 11,
   "id": "defe5fa8",
   "metadata": {},
   "outputs": [
    {
     "data": {
      "text/html": [
       "<div>\n",
       "<style scoped>\n",
       "    .dataframe tbody tr th:only-of-type {\n",
       "        vertical-align: middle;\n",
       "    }\n",
       "\n",
       "    .dataframe tbody tr th {\n",
       "        vertical-align: top;\n",
       "    }\n",
       "\n",
       "    .dataframe thead th {\n",
       "        text-align: right;\n",
       "    }\n",
       "</style>\n",
       "<table border=\"1\" class=\"dataframe\">\n",
       "  <thead>\n",
       "    <tr style=\"text-align: right;\">\n",
       "      <th></th>\n",
       "      <th>neg</th>\n",
       "      <th>neu</th>\n",
       "      <th>pos</th>\n",
       "      <th>compound</th>\n",
       "      <th>konu</th>\n",
       "      <th>label</th>\n",
       "    </tr>\n",
       "  </thead>\n",
       "  <tbody>\n",
       "    <tr>\n",
       "      <th>0</th>\n",
       "      <td>0.00</td>\n",
       "      <td>0.923</td>\n",
       "      <td>0.077</td>\n",
       "      <td>0.2732</td>\n",
       "      <td>[Lewenberg] Over the weekend, Nurse held indiv...</td>\n",
       "      <td>1</td>\n",
       "    </tr>\n",
       "    <tr>\n",
       "      <th>1</th>\n",
       "      <td>0.00</td>\n",
       "      <td>1.000</td>\n",
       "      <td>0.000</td>\n",
       "      <td>0.0000</td>\n",
       "      <td>The Denver Nuggets went on a 19-0 run to go up...</td>\n",
       "      <td>0</td>\n",
       "    </tr>\n",
       "    <tr>\n",
       "      <th>2</th>\n",
       "      <td>0.00</td>\n",
       "      <td>1.000</td>\n",
       "      <td>0.000</td>\n",
       "      <td>0.0000</td>\n",
       "      <td>[StatMuse] Jaren Jackson Jr tonight: 31 PTS 10...</td>\n",
       "      <td>0</td>\n",
       "    </tr>\n",
       "    <tr>\n",
       "      <th>3</th>\n",
       "      <td>0.21</td>\n",
       "      <td>0.700</td>\n",
       "      <td>0.090</td>\n",
       "      <td>-0.5267</td>\n",
       "      <td>Field Goals Made Unassisted % for each of the ...</td>\n",
       "      <td>-1</td>\n",
       "    </tr>\n",
       "    <tr>\n",
       "      <th>4</th>\n",
       "      <td>0.18</td>\n",
       "      <td>0.820</td>\n",
       "      <td>0.000</td>\n",
       "      <td>-0.2960</td>\n",
       "      <td>[Highlight] Giannis nearly ends Daniel Gafford...</td>\n",
       "      <td>-1</td>\n",
       "    </tr>\n",
       "  </tbody>\n",
       "</table>\n",
       "</div>"
      ],
      "text/plain": [
       "    neg    neu    pos  compound  \\\n",
       "0  0.00  0.923  0.077    0.2732   \n",
       "1  0.00  1.000  0.000    0.0000   \n",
       "2  0.00  1.000  0.000    0.0000   \n",
       "3  0.21  0.700  0.090   -0.5267   \n",
       "4  0.18  0.820  0.000   -0.2960   \n",
       "\n",
       "                                                konu  label  \n",
       "0  [Lewenberg] Over the weekend, Nurse held indiv...      1  \n",
       "1  The Denver Nuggets went on a 19-0 run to go up...      0  \n",
       "2  [StatMuse] Jaren Jackson Jr tonight: 31 PTS 10...      0  \n",
       "3  Field Goals Made Unassisted % for each of the ...     -1  \n",
       "4  [Highlight] Giannis nearly ends Daniel Gafford...     -1  "
      ]
     },
     "execution_count": 11,
     "metadata": {},
     "output_type": "execute_result"
    }
   ],
   "source": [
    "df['label'] = 0\n",
    "df.loc[df['compound'] > 0.2, 'label'] = 1\n",
    "df.loc[df['compound'] < -0.2, 'label'] = -1\n",
    "df.head()"
   ]
  },
  {
   "cell_type": "code",
   "execution_count": 12,
   "id": "2a217da3",
   "metadata": {},
   "outputs": [],
   "source": [
    "df2 = df[['konu', 'label']]"
   ]
  },
  {
   "cell_type": "code",
   "execution_count": 13,
   "id": "4028b23c",
   "metadata": {},
   "outputs": [],
   "source": [
    "df2.to_csv('Reddit_konular.csv', encoding='utf-8', index=False)"
   ]
  },
  {
   "cell_type": "code",
   "execution_count": 14,
   "id": "37309011",
   "metadata": {},
   "outputs": [
    {
     "data": {
      "text/plain": [
       " 0    348\n",
       " 1    245\n",
       "-1    167\n",
       "Name: label, dtype: int64"
      ]
     },
     "execution_count": 14,
     "metadata": {},
     "output_type": "execute_result"
    }
   ],
   "source": [
    "df.label.value_counts()"
   ]
  },
  {
   "cell_type": "code",
   "execution_count": 15,
   "id": "c44fa8f1",
   "metadata": {},
   "outputs": [
    {
     "data": {
      "text/plain": [
       " 0    45.789474\n",
       " 1    32.236842\n",
       "-1    21.973684\n",
       "Name: label, dtype: float64"
      ]
     },
     "execution_count": 15,
     "metadata": {},
     "output_type": "execute_result"
    }
   ],
   "source": [
    "df.label.value_counts(normalize=True) * 100"
   ]
  },
  {
   "cell_type": "code",
   "execution_count": 16,
   "id": "90061d67",
   "metadata": {},
   "outputs": [
    {
     "name": "stdout",
     "output_type": "stream",
     "text": [
      "Olumlu açıklamalar:\n",
      "\n",
      "['[Lewenberg] Over the weekend, Nurse held individual meetings with many of his players and coaches, conversations that were described as “intense” and weren’t universally well received.',\n",
      " 'Who had a better career, LaMarcus Aldridge or Blake Griffin?',\n",
      " 'Imo the west is completely wide open, if lakers add 2 pieces and get healthy AD back I can see them making finals',\n",
      " \"[Wojnarowski] The San Antonio Spurs are bringing back center Gorgui Dieng on a 10-day contract, source tells ESPN. Dieng was waived to make room for a trade with the Celtics on Thursday. He's \"\n",
      " 'played 13 games for the Spurs this season.',\n",
      " 'Teams ranked based on roster cost efficiency']\n",
      "Olumsuz açıklamlar:\n",
      "\n",
      "['Field Goals Made Unassisted % for each of the top 10 players in the Kia mvp ladder',\n",
      " '[Highlight] Giannis nearly ends Daniel Gafford on the missed dunk attempt',\n",
      " 'Which player(s) do you have an irrational hatred of?',\n",
      " '[Post Game Thread] The Oklahoma City Thunder (17-22) defeat the Washington Wizards (17-23), 127-110.',\n",
      " 'Which first round East matchup could you see ending in an upset?']\n"
     ]
    }
   ],
   "source": [
    "print(\"Olumlu açıklamalar:\\n\")\n",
    "pprint(list(df[df['label'] == 1].konu)[:5], width=200)\n",
    "\n",
    "print(\"Olumsuz açıklamlar:\\n\")\n",
    "pprint(list(df[df['label'] == -1].konu)[:5], width=200)"
   ]
  },
  {
   "cell_type": "code",
   "execution_count": 17,
   "id": "7cc85dee",
   "metadata": {},
   "outputs": [
    {
     "data": {
      "image/png": "[encoded data removed]",
      "text/plain": [
       "<Figure size 800x800 with 1 Axes>"
      ]
     },
     "metadata": {},
     "output_type": "display_data"
    }
   ],
   "source": [
    "fig, ax = plt.subplots(figsize=(8, 8))\n",
    "\n",
    "counts = df.label.value_counts(normalize=True) * 100\n",
    "\n",
    "sns.barplot(x=counts.index, y=counts, ax=ax)\n",
    "\n",
    "ax.set_xticklabels(['olumsuz', 'Duygu Belirtmeyen', 'olumlu'])\n",
    "ax.set_ylabel(\"Dağılım\")\n",
    "\n",
    "plt.show()"
   ]
  },
  {
   "cell_type": "code",
   "execution_count": null,
   "id": "aa27e27f",
   "metadata": {},
   "outputs": [],
   "source": []
  }
 ],
 "metadata": {
  "kernelspec": {
   "display_name": "Python 3 (ipykernel)",
   "language": "python",
   "name": "python3"
  },
  "language_info": {
   "codemirror_mode": {
    "name": "ipython",
    "version": 3
   },
   "file_extension": ".py",
   "mimetype": "text/x-python",
   "name": "python",
   "nbconvert_exporter": "python",
   "pygments_lexer": "ipython3",
   "version": "3.9.13"
  }
 },
 "nbformat": 4,
 "nbformat_minor": 5
}
