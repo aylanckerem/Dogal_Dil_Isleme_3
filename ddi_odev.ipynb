{
 "cells": [
  {
   "cell_type": "code",
   "execution_count": 51,
   "id": "35cc0b45",
   "metadata": {},
   "outputs": [
    {
     "name": "stdout",
     "output_type": "stream",
     "text": [
      "Requirement already satisfied: praw in /opt/anaconda3/lib/python3.9/site-packages (7.6.1)\n",
      "Requirement already satisfied: websocket-client>=0.54.0 in /opt/anaconda3/lib/python3.9/site-packages (from praw) (0.58.0)\n",
      "Requirement already satisfied: update-checker>=0.18 in /opt/anaconda3/lib/python3.9/site-packages (from praw) (0.18.0)\n",
      "Requirement already satisfied: prawcore<3,>=2.1 in /opt/anaconda3/lib/python3.9/site-packages (from praw) (2.3.0)\n",
      "Requirement already satisfied: requests<3.0,>=2.6.0 in /opt/anaconda3/lib/python3.9/site-packages (from prawcore<3,>=2.1->praw) (2.28.1)\n",
      "Requirement already satisfied: six in /opt/anaconda3/lib/python3.9/site-packages (from websocket-client>=0.54.0->praw) (1.16.0)\n",
      "Requirement already satisfied: charset-normalizer<3,>=2 in /opt/anaconda3/lib/python3.9/site-packages (from requests<3.0,>=2.6.0->prawcore<3,>=2.1->praw) (2.0.4)\n",
      "Requirement already satisfied: urllib3<1.27,>=1.21.1 in /opt/anaconda3/lib/python3.9/site-packages (from requests<3.0,>=2.6.0->prawcore<3,>=2.1->praw) (1.26.11)\n",
      "Requirement already satisfied: idna<4,>=2.5 in /opt/anaconda3/lib/python3.9/site-packages (from requests<3.0,>=2.6.0->prawcore<3,>=2.1->praw) (3.3)\n",
      "Requirement already satisfied: certifi>=2017.4.17 in /opt/anaconda3/lib/python3.9/site-packages (from requests<3.0,>=2.6.0->prawcore<3,>=2.1->praw) (2022.9.24)\n",
      "Requirement already satisfied: nltk in /opt/anaconda3/lib/python3.9/site-packages (3.7)\n",
      "Requirement already satisfied: tqdm in /opt/anaconda3/lib/python3.9/site-packages (from nltk) (4.64.1)\n",
      "Requirement already satisfied: joblib in /opt/anaconda3/lib/python3.9/site-packages (from nltk) (1.1.0)\n",
      "Requirement already satisfied: regex>=2021.8.3 in /opt/anaconda3/lib/python3.9/site-packages (from nltk) (2022.7.9)\n",
      "Requirement already satisfied: click in /opt/anaconda3/lib/python3.9/site-packages (from nltk) (8.0.4)\n"
     ]
    }
   ],
   "source": [
    "!pip install praw\n",
    "!pip install nltk\n",
    "from pprint import pprint\n",
    "import pandas as pd\n",
    "import numpy as np\n",
    "import matplotlib.pyplot as plt\n",
    "import seaborn as sns"
   ]
  },
  {
   "cell_type": "code",
   "execution_count": 52,
   "id": "455b5804",
   "metadata": {},
   "outputs": [],
   "source": [
    "import praw\n",
    "\n",
    "user_agent = \"kerem\"\n",
    "reddit = praw.Reddit(\n",
    "    client_id=\"YO6Dy_4rO-6yMx8PXC0msw\",\n",
    "    client_secret=\"_Nf2mgAwSJP_bGmJ6NUdHGSCGAtaUQ\",\n",
    "    user_agent=user_agent\n",
    ")"
   ]
  },
  {
   "cell_type": "code",
   "execution_count": 53,
   "id": "e56a666b",
   "metadata": {},
   "outputs": [
    {
     "name": "stdout",
     "output_type": "stream",
     "text": [
      "763\n"
     ]
    }
   ],
   "source": [
    "headlines = set()\n",
    "for submission in reddit.subreddit('nba').hot(limit=None):\n",
    "    headlines.add(submission.title)\n",
    "print(len(headlines))"
   ]
  },
  {
   "cell_type": "code",
   "execution_count": 54,
   "id": "bc7209d2",
   "metadata": {},
   "outputs": [
    {
     "data": {
      "text/html": [
       "<div>\n",
       "<style scoped>\n",
       "    .dataframe tbody tr th:only-of-type {\n",
       "        vertical-align: middle;\n",
       "    }\n",
       "\n",
       "    .dataframe tbody tr th {\n",
       "        vertical-align: top;\n",
       "    }\n",
       "\n",
       "    .dataframe thead th {\n",
       "        text-align: right;\n",
       "    }\n",
       "</style>\n",
       "<table border=\"1\" class=\"dataframe\">\n",
       "  <thead>\n",
       "    <tr style=\"text-align: right;\">\n",
       "      <th></th>\n",
       "      <th>0</th>\n",
       "    </tr>\n",
       "  </thead>\n",
       "  <tbody>\n",
       "    <tr>\n",
       "      <th>0</th>\n",
       "      <td>[StatMuse]James Harden tonight: 26 PTS 6 REB 8...</td>\n",
       "    </tr>\n",
       "    <tr>\n",
       "      <th>1</th>\n",
       "      <td>[Post Game Thread] The Denver Nuggets (26-13) ...</td>\n",
       "    </tr>\n",
       "    <tr>\n",
       "      <th>2</th>\n",
       "      <td>[Highlight] Anthony Lamb, a two way player, hi...</td>\n",
       "    </tr>\n",
       "    <tr>\n",
       "      <th>3</th>\n",
       "      <td>Can a player score with no minutes played?</td>\n",
       "    </tr>\n",
       "    <tr>\n",
       "      <th>4</th>\n",
       "      <td>[Highlight] Jalen Brunson throws Sims a perfec...</td>\n",
       "    </tr>\n",
       "  </tbody>\n",
       "</table>\n",
       "</div>"
      ],
      "text/plain": [
       "                                                   0\n",
       "0  [StatMuse]James Harden tonight: 26 PTS 6 REB 8...\n",
       "1  [Post Game Thread] The Denver Nuggets (26-13) ...\n",
       "2  [Highlight] Anthony Lamb, a two way player, hi...\n",
       "3         Can a player score with no minutes played?\n",
       "4  [Highlight] Jalen Brunson throws Sims a perfec..."
      ]
     },
     "execution_count": 54,
     "metadata": {},
     "output_type": "execute_result"
    }
   ],
   "source": [
    "df = pd.DataFrame(headlines)\n",
    "df.head()"
   ]
  },
  {
   "cell_type": "code",
   "execution_count": 55,
   "id": "afa52ddc",
   "metadata": {},
   "outputs": [],
   "source": [
    "df.to_csv('konular.csv', header=False, encoding='utf-8', index=False)"
   ]
  },
  {
   "cell_type": "code",
   "execution_count": 56,
   "id": "4507d8df",
   "metadata": {},
   "outputs": [
    {
     "name": "stderr",
     "output_type": "stream",
     "text": [
      "[nltk_data] Downloading package vader_lexicon to\n",
      "[nltk_data]     /Users/keremaylanc/nltk_data...\n",
      "[nltk_data]   Package vader_lexicon is already up-to-date!\n"
     ]
    },
    {
     "data": {
      "text/plain": [
       "True"
      ]
     },
     "execution_count": 56,
     "metadata": {},
     "output_type": "execute_result"
    }
   ],
   "source": [
    "import nltk\n",
    "nltk.download('vader_lexicon')"
   ]
  },
  {
   "cell_type": "code",
   "execution_count": 57,
   "id": "20277062",
   "metadata": {},
   "outputs": [
    {
     "name": "stdout",
     "output_type": "stream",
     "text": [
      "[{'compound': 0.0,\n",
      "  'konu': '[StatMuse]James Harden tonight: 26 PTS 6 REB 8 AST Only LeBron has more 25/5/5 games '\n",
      "          'since 2000',\n",
      "  'neg': 0.0,\n",
      "  'neu': 1.0,\n",
      "  'pos': 0.0},\n",
      " {'compound': -0.4588,\n",
      "  'konu': '[Post Game Thread] The Denver Nuggets (26-13) defeat the Cleveland Cavaliers (25-15), '\n",
      "          \"121-108 behind Jokic's 28/15/10 on Orthodox Christmas Eve\",\n",
      "  'neg': 0.136,\n",
      "  'neu': 0.864,\n",
      "  'pos': 0.0},\n",
      " {'compound': 0.0,\n",
      "  'konu': '[Highlight] Anthony Lamb, a two way player, hits his 4th three-pointer of the first '\n",
      "          \"quarter, he's now 4/4\",\n",
      "  'neg': 0.0,\n",
      "  'neu': 1.0,\n",
      "  'pos': 0.0}]\n"
     ]
    }
   ],
   "source": [
    "from nltk.sentiment.vader import SentimentIntensityAnalyzer as SIA\n",
    "sia = SIA()\n",
    "results = []\n",
    "\n",
    "for line in headlines:\n",
    "    pol_score = sia.polarity_scores(line)\n",
    "    pol_score['konu'] = line\n",
    "    results.append(pol_score)\n",
    "    \n",
    "pprint(results[:3], width=100)"
   ]
  },
  {
   "cell_type": "code",
   "execution_count": 58,
   "id": "c328274e",
   "metadata": {},
   "outputs": [
    {
     "data": {
      "text/html": [
       "<div>\n",
       "<style scoped>\n",
       "    .dataframe tbody tr th:only-of-type {\n",
       "        vertical-align: middle;\n",
       "    }\n",
       "\n",
       "    .dataframe tbody tr th {\n",
       "        vertical-align: top;\n",
       "    }\n",
       "\n",
       "    .dataframe thead th {\n",
       "        text-align: right;\n",
       "    }\n",
       "</style>\n",
       "<table border=\"1\" class=\"dataframe\">\n",
       "  <thead>\n",
       "    <tr style=\"text-align: right;\">\n",
       "      <th></th>\n",
       "      <th>neg</th>\n",
       "      <th>neu</th>\n",
       "      <th>pos</th>\n",
       "      <th>compound</th>\n",
       "      <th>konu</th>\n",
       "    </tr>\n",
       "  </thead>\n",
       "  <tbody>\n",
       "    <tr>\n",
       "      <th>0</th>\n",
       "      <td>0.000</td>\n",
       "      <td>1.000</td>\n",
       "      <td>0.000</td>\n",
       "      <td>0.0000</td>\n",
       "      <td>[StatMuse]James Harden tonight: 26 PTS 6 REB 8...</td>\n",
       "    </tr>\n",
       "    <tr>\n",
       "      <th>1</th>\n",
       "      <td>0.136</td>\n",
       "      <td>0.864</td>\n",
       "      <td>0.000</td>\n",
       "      <td>-0.4588</td>\n",
       "      <td>[Post Game Thread] The Denver Nuggets (26-13) ...</td>\n",
       "    </tr>\n",
       "    <tr>\n",
       "      <th>2</th>\n",
       "      <td>0.000</td>\n",
       "      <td>1.000</td>\n",
       "      <td>0.000</td>\n",
       "      <td>0.0000</td>\n",
       "      <td>[Highlight] Anthony Lamb, a two way player, hi...</td>\n",
       "    </tr>\n",
       "    <tr>\n",
       "      <th>3</th>\n",
       "      <td>0.229</td>\n",
       "      <td>0.521</td>\n",
       "      <td>0.250</td>\n",
       "      <td>0.0516</td>\n",
       "      <td>Can a player score with no minutes played?</td>\n",
       "    </tr>\n",
       "    <tr>\n",
       "      <th>4</th>\n",
       "      <td>0.000</td>\n",
       "      <td>0.602</td>\n",
       "      <td>0.398</td>\n",
       "      <td>0.7650</td>\n",
       "      <td>[Highlight] Jalen Brunson throws Sims a perfec...</td>\n",
       "    </tr>\n",
       "  </tbody>\n",
       "</table>\n",
       "</div>"
      ],
      "text/plain": [
       "     neg    neu    pos  compound  \\\n",
       "0  0.000  1.000  0.000    0.0000   \n",
       "1  0.136  0.864  0.000   -0.4588   \n",
       "2  0.000  1.000  0.000    0.0000   \n",
       "3  0.229  0.521  0.250    0.0516   \n",
       "4  0.000  0.602  0.398    0.7650   \n",
       "\n",
       "                                                konu  \n",
       "0  [StatMuse]James Harden tonight: 26 PTS 6 REB 8...  \n",
       "1  [Post Game Thread] The Denver Nuggets (26-13) ...  \n",
       "2  [Highlight] Anthony Lamb, a two way player, hi...  \n",
       "3         Can a player score with no minutes played?  \n",
       "4  [Highlight] Jalen Brunson throws Sims a perfec...  "
      ]
     },
     "execution_count": 58,
     "metadata": {},
     "output_type": "execute_result"
    }
   ],
   "source": [
    "df = pd.DataFrame.from_records(results)\n",
    "df.head()"
   ]
  },
  {
   "cell_type": "code",
   "execution_count": 59,
   "id": "defe5fa8",
   "metadata": {},
   "outputs": [
    {
     "data": {
      "text/html": [
       "<div>\n",
       "<style scoped>\n",
       "    .dataframe tbody tr th:only-of-type {\n",
       "        vertical-align: middle;\n",
       "    }\n",
       "\n",
       "    .dataframe tbody tr th {\n",
       "        vertical-align: top;\n",
       "    }\n",
       "\n",
       "    .dataframe thead th {\n",
       "        text-align: right;\n",
       "    }\n",
       "</style>\n",
       "<table border=\"1\" class=\"dataframe\">\n",
       "  <thead>\n",
       "    <tr style=\"text-align: right;\">\n",
       "      <th></th>\n",
       "      <th>neg</th>\n",
       "      <th>neu</th>\n",
       "      <th>pos</th>\n",
       "      <th>compound</th>\n",
       "      <th>konu</th>\n",
       "      <th>label</th>\n",
       "    </tr>\n",
       "  </thead>\n",
       "  <tbody>\n",
       "    <tr>\n",
       "      <th>0</th>\n",
       "      <td>0.000</td>\n",
       "      <td>1.000</td>\n",
       "      <td>0.000</td>\n",
       "      <td>0.0000</td>\n",
       "      <td>[StatMuse]James Harden tonight: 26 PTS 6 REB 8...</td>\n",
       "      <td>0</td>\n",
       "    </tr>\n",
       "    <tr>\n",
       "      <th>1</th>\n",
       "      <td>0.136</td>\n",
       "      <td>0.864</td>\n",
       "      <td>0.000</td>\n",
       "      <td>-0.4588</td>\n",
       "      <td>[Post Game Thread] The Denver Nuggets (26-13) ...</td>\n",
       "      <td>-1</td>\n",
       "    </tr>\n",
       "    <tr>\n",
       "      <th>2</th>\n",
       "      <td>0.000</td>\n",
       "      <td>1.000</td>\n",
       "      <td>0.000</td>\n",
       "      <td>0.0000</td>\n",
       "      <td>[Highlight] Anthony Lamb, a two way player, hi...</td>\n",
       "      <td>0</td>\n",
       "    </tr>\n",
       "    <tr>\n",
       "      <th>3</th>\n",
       "      <td>0.229</td>\n",
       "      <td>0.521</td>\n",
       "      <td>0.250</td>\n",
       "      <td>0.0516</td>\n",
       "      <td>Can a player score with no minutes played?</td>\n",
       "      <td>0</td>\n",
       "    </tr>\n",
       "    <tr>\n",
       "      <th>4</th>\n",
       "      <td>0.000</td>\n",
       "      <td>0.602</td>\n",
       "      <td>0.398</td>\n",
       "      <td>0.7650</td>\n",
       "      <td>[Highlight] Jalen Brunson throws Sims a perfec...</td>\n",
       "      <td>1</td>\n",
       "    </tr>\n",
       "  </tbody>\n",
       "</table>\n",
       "</div>"
      ],
      "text/plain": [
       "     neg    neu    pos  compound  \\\n",
       "0  0.000  1.000  0.000    0.0000   \n",
       "1  0.136  0.864  0.000   -0.4588   \n",
       "2  0.000  1.000  0.000    0.0000   \n",
       "3  0.229  0.521  0.250    0.0516   \n",
       "4  0.000  0.602  0.398    0.7650   \n",
       "\n",
       "                                                konu  label  \n",
       "0  [StatMuse]James Harden tonight: 26 PTS 6 REB 8...      0  \n",
       "1  [Post Game Thread] The Denver Nuggets (26-13) ...     -1  \n",
       "2  [Highlight] Anthony Lamb, a two way player, hi...      0  \n",
       "3         Can a player score with no minutes played?      0  \n",
       "4  [Highlight] Jalen Brunson throws Sims a perfec...      1  "
      ]
     },
     "execution_count": 59,
     "metadata": {},
     "output_type": "execute_result"
    }
   ],
   "source": [
    "df['label'] = 0\n",
    "df.loc[df['compound'] > 0.2, 'label'] = 1\n",
    "df.loc[df['compound'] < -0.2, 'label'] = -1\n",
    "df.head()"
   ]
  },
  {
   "cell_type": "code",
   "execution_count": 60,
   "id": "2a217da3",
   "metadata": {},
   "outputs": [],
   "source": [
    "df2 = df[['konu', 'label']]"
   ]
  },
  {
   "cell_type": "code",
   "execution_count": 61,
   "id": "4028b23c",
   "metadata": {},
   "outputs": [],
   "source": [
    "df2.to_csv('Reddit_konular.csv', encoding='utf-8', index=False)"
   ]
  },
  {
   "cell_type": "code",
   "execution_count": 62,
   "id": "37309011",
   "metadata": {},
   "outputs": [
    {
     "data": {
      "text/plain": [
       " 0    348\n",
       " 1    246\n",
       "-1    169\n",
       "Name: label, dtype: int64"
      ]
     },
     "execution_count": 62,
     "metadata": {},
     "output_type": "execute_result"
    }
   ],
   "source": [
    "df.label.value_counts()"
   ]
  },
  {
   "cell_type": "code",
   "execution_count": 63,
   "id": "c44fa8f1",
   "metadata": {},
   "outputs": [
    {
     "data": {
      "text/plain": [
       " 0    45.609436\n",
       " 1    32.241153\n",
       "-1    22.149410\n",
       "Name: label, dtype: float64"
      ]
     },
     "execution_count": 63,
     "metadata": {},
     "output_type": "execute_result"
    }
   ],
   "source": [
    "df.label.value_counts(normalize=True) * 100"
   ]
  },
  {
   "cell_type": "code",
   "execution_count": 64,
   "id": "90061d67",
   "metadata": {},
   "outputs": [
    {
     "name": "stdout",
     "output_type": "stream",
     "text": [
      "Olumlu açıklamalar:\n",
      "\n",
      "['[Highlight] Jalen Brunson throws Sims a perfect pass for the easy alley oop',\n",
      " 'Is this the best the NBA has been in awhile?',\n",
      " \"Who's the better overall shooter between Damian Lillard and Kyrie Irving, in your opinion?\",\n",
      " 'rank every player on your favorite team',\n",
      " '[Weiss] Marcus Smart was fined $35K by the NBA for his language toward an official as he was ejected in OKC.']\n",
      "Olumsuz açıklamlar:\n",
      "\n",
      "[\"[Post Game Thread] The Denver Nuggets (26-13) defeat the Cleveland Cavaliers (25-15), 121-108 behind Jokic's 28/15/10 on Orthodox Christmas Eve\",\n",
      " '[Post Game Thread] The New Orleans Pelicans (24-14) defeat the Houston Rockets (10-28), 119-108.',\n",
      " 'With 1:09 left in the 4th, the Bucks had a 99.9% chance of beating the Raptors. The Raptors managed to send the game into overtime.',\n",
      " '[Afseth] Christian Wood has averaged 18.9 points, 7.5 rebounds, and 2.9 blocks in 8 starts alongside Luka Doncic. The Mavericks are 7-1 in those games. Wood has as many games (3) with 4+ blocks '\n",
      " 'during this stretch as he had compared to the rest of his NBA career.',\n",
      " 'Kia MVP Ladder: Kevin Durant ascends to No. 3; Nikola Jokic remains on top']\n"
     ]
    }
   ],
   "source": [
    "print(\"Olumlu açıklamalar:\\n\")\n",
    "pprint(list(df[df['label'] == 1].konu)[:5], width=200)\n",
    "\n",
    "print(\"Olumsuz açıklamlar:\\n\")\n",
    "pprint(list(df[df['label'] == -1].konu)[:5], width=200)"
   ]
  },
  {
   "cell_type": "code",
   "execution_count": 65,
   "id": "7cc85dee",
   "metadata": {},
   "outputs": [
    {
     "data": {
      "image/png": "[encoded data removed]",
      "text/plain": [
       "<Figure size 800x800 with 1 Axes>"
      ]
     },
     "metadata": {},
     "output_type": "display_data"
    }
   ],
   "source": [
    "fig, ax = plt.subplots(figsize=(8, 8))\n",
    "\n",
    "counts = df.label.value_counts(normalize=True) * 100\n",
    "\n",
    "sns.barplot(x=counts.index, y=counts, ax=ax)\n",
    "\n",
    "ax.set_xticklabels(['olumsuz', 'Duygu Belirtmeyen', 'olumlu'])\n",
    "ax.set_ylabel(\"Dağılım\")\n",
    "\n",
    "plt.show()"
   ]
  },
  {
   "cell_type": "code",
   "execution_count": null,
   "id": "aa27e27f",
   "metadata": {},
   "outputs": [],
   "source": []
  }
 ],
 "metadata": {
  "kernelspec": {
   "display_name": "Python 3 (ipykernel)",
   "language": "python",
   "name": "python3"
  },
  "language_info": {
   "codemirror_mode": {
    "name": "ipython",
    "version": 3
   },
   "file_extension": ".py",
   "mimetype": "text/x-python",
   "name": "python",
   "nbconvert_exporter": "python",
   "pygments_lexer": "ipython3",
   "version": "3.9.13"
  }
 },
 "nbformat": 4,
 "nbformat_minor": 5
}
