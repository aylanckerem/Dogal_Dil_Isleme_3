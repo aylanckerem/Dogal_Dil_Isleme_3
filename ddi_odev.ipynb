{
 "cells": [
  {
   "cell_type": "code",
   "execution_count": 3,
   "id": "35cc0b45",
   "metadata": {},
   "outputs": [
    {
     "name": "stdout",
     "output_type": "stream",
     "text": [
      "Requirement already satisfied: praw in /opt/anaconda3/lib/python3.9/site-packages (7.6.1)\n",
      "Requirement already satisfied: websocket-client>=0.54.0 in /opt/anaconda3/lib/python3.9/site-packages (from praw) (0.58.0)\n",
      "Requirement already satisfied: prawcore<3,>=2.1 in /opt/anaconda3/lib/python3.9/site-packages (from praw) (2.3.0)\n",
      "Requirement already satisfied: update-checker>=0.18 in /opt/anaconda3/lib/python3.9/site-packages (from praw) (0.18.0)\n",
      "Requirement already satisfied: requests<3.0,>=2.6.0 in /opt/anaconda3/lib/python3.9/site-packages (from prawcore<3,>=2.1->praw) (2.28.1)\n",
      "Requirement already satisfied: six in /opt/anaconda3/lib/python3.9/site-packages (from websocket-client>=0.54.0->praw) (1.16.0)\n",
      "Requirement already satisfied: urllib3<1.27,>=1.21.1 in /opt/anaconda3/lib/python3.9/site-packages (from requests<3.0,>=2.6.0->prawcore<3,>=2.1->praw) (1.26.11)\n",
      "Requirement already satisfied: idna<4,>=2.5 in /opt/anaconda3/lib/python3.9/site-packages (from requests<3.0,>=2.6.0->prawcore<3,>=2.1->praw) (3.3)\n",
      "Requirement already satisfied: charset-normalizer<3,>=2 in /opt/anaconda3/lib/python3.9/site-packages (from requests<3.0,>=2.6.0->prawcore<3,>=2.1->praw) (2.0.4)\n",
      "Requirement already satisfied: certifi>=2017.4.17 in /opt/anaconda3/lib/python3.9/site-packages (from requests<3.0,>=2.6.0->prawcore<3,>=2.1->praw) (2022.9.24)\n",
      "Requirement already satisfied: nltk in /opt/anaconda3/lib/python3.9/site-packages (3.7)\n",
      "Requirement already satisfied: tqdm in /opt/anaconda3/lib/python3.9/site-packages (from nltk) (4.64.1)\n",
      "Requirement already satisfied: click in /opt/anaconda3/lib/python3.9/site-packages (from nltk) (8.0.4)\n",
      "Requirement already satisfied: regex>=2021.8.3 in /opt/anaconda3/lib/python3.9/site-packages (from nltk) (2022.7.9)\n",
      "Requirement already satisfied: joblib in /opt/anaconda3/lib/python3.9/site-packages (from nltk) (1.1.0)\n"
     ]
    }
   ],
   "source": [
    "!pip install praw\n",
    "!pip install nltk\n",
    "from pprint import pprint\n",
    "import pandas as pd\n",
    "import numpy as np\n",
    "import matplotlib.pyplot as plt\n",
    "import seaborn as sns"
   ]
  },
  {
   "cell_type": "code",
   "execution_count": 4,
   "id": "455b5804",
   "metadata": {},
   "outputs": [],
   "source": [
    "import praw\n",
    "\n",
    "user_agent = \"kerem\"\n",
    "reddit = praw.Reddit(\n",
    "    client_id=\"YO6Dy_4rO-6yMx8PXC0msw\",\n",
    "    client_secret=\"_Nf2mgAwSJP_bGmJ6NUdHGSCGAtaUQ\",\n",
    "    user_agent=user_agent\n",
    ")"
   ]
  },
  {
   "cell_type": "code",
   "execution_count": 5,
   "id": "e56a666b",
   "metadata": {},
   "outputs": [
    {
     "name": "stdout",
     "output_type": "stream",
     "text": [
      "762\n"
     ]
    }
   ],
   "source": [
    "headlines = set()\n",
    "for submission in reddit.subreddit('nba').hot(limit=None):\n",
    "    headlines.add(submission.title)\n",
    "print(len(headlines))"
   ]
  },
  {
   "cell_type": "code",
   "execution_count": 6,
   "id": "bc7209d2",
   "metadata": {},
   "outputs": [
    {
     "data": {
      "text/html": [
       "<div>\n",
       "<style scoped>\n",
       "    .dataframe tbody tr th:only-of-type {\n",
       "        vertical-align: middle;\n",
       "    }\n",
       "\n",
       "    .dataframe tbody tr th {\n",
       "        vertical-align: top;\n",
       "    }\n",
       "\n",
       "    .dataframe thead th {\n",
       "        text-align: right;\n",
       "    }\n",
       "</style>\n",
       "<table border=\"1\" class=\"dataframe\">\n",
       "  <thead>\n",
       "    <tr style=\"text-align: right;\">\n",
       "      <th></th>\n",
       "      <th>0</th>\n",
       "    </tr>\n",
       "  </thead>\n",
       "  <tbody>\n",
       "    <tr>\n",
       "      <th>0</th>\n",
       "      <td>[Highlight] De'Aaron Fox makes the turnaround ...</td>\n",
       "    </tr>\n",
       "    <tr>\n",
       "      <th>1</th>\n",
       "      <td>[Slater] Andrew Wiggins is probable for tomorr...</td>\n",
       "    </tr>\n",
       "    <tr>\n",
       "      <th>2</th>\n",
       "      <td>The Thunder Have 7 Players Score in Double Fig...</td>\n",
       "    </tr>\n",
       "    <tr>\n",
       "      <th>3</th>\n",
       "      <td>Matisse Thybulle has been a potent weapon for ...</td>\n",
       "    </tr>\n",
       "    <tr>\n",
       "      <th>4</th>\n",
       "      <td>GAME THREAD: Phoenix Suns (20-18) @ Cleveland ...</td>\n",
       "    </tr>\n",
       "  </tbody>\n",
       "</table>\n",
       "</div>"
      ],
      "text/plain": [
       "                                                   0\n",
       "0  [Highlight] De'Aaron Fox makes the turnaround ...\n",
       "1  [Slater] Andrew Wiggins is probable for tomorr...\n",
       "2  The Thunder Have 7 Players Score in Double Fig...\n",
       "3  Matisse Thybulle has been a potent weapon for ...\n",
       "4  GAME THREAD: Phoenix Suns (20-18) @ Cleveland ..."
      ]
     },
     "execution_count": 6,
     "metadata": {},
     "output_type": "execute_result"
    }
   ],
   "source": [
    "df = pd.DataFrame(headlines)\n",
    "df.head()"
   ]
  },
  {
   "cell_type": "code",
   "execution_count": 7,
   "id": "afa52ddc",
   "metadata": {},
   "outputs": [],
   "source": [
    "df.to_csv('konular.csv', header=False, encoding='utf-8', index=False)"
   ]
  },
  {
   "cell_type": "code",
   "execution_count": 8,
   "id": "4507d8df",
   "metadata": {},
   "outputs": [
    {
     "name": "stderr",
     "output_type": "stream",
     "text": [
      "[nltk_data] Downloading package vader_lexicon to\n",
      "[nltk_data]     /Users/keremaylanc/nltk_data...\n",
      "[nltk_data]   Package vader_lexicon is already up-to-date!\n"
     ]
    },
    {
     "data": {
      "text/plain": [
       "True"
      ]
     },
     "execution_count": 8,
     "metadata": {},
     "output_type": "execute_result"
    }
   ],
   "source": [
    "import nltk\n",
    "nltk.download('vader_lexicon')"
   ]
  },
  {
   "cell_type": "code",
   "execution_count": 9,
   "id": "20277062",
   "metadata": {},
   "outputs": [
    {
     "name": "stdout",
     "output_type": "stream",
     "text": [
      "[{'compound': 0.0,\n",
      "  'konu': \"[Highlight] De'Aaron Fox makes the turnaround jump shot to tie the game with less than \"\n",
      "          '7 seconds remaining',\n",
      "  'neg': 0.0,\n",
      "  'neu': 1.0,\n",
      "  'pos': 0.0},\n",
      " {'compound': -0.5267,\n",
      "  'konu': '[Slater] Andrew Wiggins is probable for tomorrow’s game against the Magic. It is '\n",
      "          'expected to be the end of the longest absence of his career. He’s missed the previous '\n",
      "          '15 games. Never missed more than 11 total games in any season.',\n",
      "  'neg': 0.101,\n",
      "  'neu': 0.899,\n",
      "  'pos': 0.0},\n",
      " {'compound': 0.5859,\n",
      "  'konu': 'The Thunder Have 7 Players Score in Double Figures in a 150-117 Win Over the Celtics',\n",
      "  'neg': 0.0,\n",
      "  'neu': 0.774,\n",
      "  'pos': 0.226}]\n"
     ]
    }
   ],
   "source": [
    "from nltk.sentiment.vader import SentimentIntensityAnalyzer as Dosya\n",
    "veri = Dosya()\n",
    "results = []\n",
    "\n",
    "for line in headlines:\n",
    "    pol_score = veri.polarity_scores(line)\n",
    "    pol_score['konu'] = line\n",
    "    results.append(pol_score)\n",
    "    \n",
    "pprint(results[:3], width=100)"
   ]
  },
  {
   "cell_type": "code",
   "execution_count": 10,
   "id": "c328274e",
   "metadata": {},
   "outputs": [
    {
     "data": {
      "text/html": [
       "<div>\n",
       "<style scoped>\n",
       "    .dataframe tbody tr th:only-of-type {\n",
       "        vertical-align: middle;\n",
       "    }\n",
       "\n",
       "    .dataframe tbody tr th {\n",
       "        vertical-align: top;\n",
       "    }\n",
       "\n",
       "    .dataframe thead th {\n",
       "        text-align: right;\n",
       "    }\n",
       "</style>\n",
       "<table border=\"1\" class=\"dataframe\">\n",
       "  <thead>\n",
       "    <tr style=\"text-align: right;\">\n",
       "      <th></th>\n",
       "      <th>neg</th>\n",
       "      <th>neu</th>\n",
       "      <th>pos</th>\n",
       "      <th>compound</th>\n",
       "      <th>konu</th>\n",
       "    </tr>\n",
       "  </thead>\n",
       "  <tbody>\n",
       "    <tr>\n",
       "      <th>0</th>\n",
       "      <td>0.000</td>\n",
       "      <td>1.000</td>\n",
       "      <td>0.000</td>\n",
       "      <td>0.0000</td>\n",
       "      <td>[Highlight] De'Aaron Fox makes the turnaround ...</td>\n",
       "    </tr>\n",
       "    <tr>\n",
       "      <th>1</th>\n",
       "      <td>0.101</td>\n",
       "      <td>0.899</td>\n",
       "      <td>0.000</td>\n",
       "      <td>-0.5267</td>\n",
       "      <td>[Slater] Andrew Wiggins is probable for tomorr...</td>\n",
       "    </tr>\n",
       "    <tr>\n",
       "      <th>2</th>\n",
       "      <td>0.000</td>\n",
       "      <td>0.774</td>\n",
       "      <td>0.226</td>\n",
       "      <td>0.5859</td>\n",
       "      <td>The Thunder Have 7 Players Score in Double Fig...</td>\n",
       "    </tr>\n",
       "    <tr>\n",
       "      <th>3</th>\n",
       "      <td>0.217</td>\n",
       "      <td>0.691</td>\n",
       "      <td>0.092</td>\n",
       "      <td>-0.3306</td>\n",
       "      <td>Matisse Thybulle has been a potent weapon for ...</td>\n",
       "    </tr>\n",
       "    <tr>\n",
       "      <th>4</th>\n",
       "      <td>0.000</td>\n",
       "      <td>1.000</td>\n",
       "      <td>0.000</td>\n",
       "      <td>0.0000</td>\n",
       "      <td>GAME THREAD: Phoenix Suns (20-18) @ Cleveland ...</td>\n",
       "    </tr>\n",
       "  </tbody>\n",
       "</table>\n",
       "</div>"
      ],
      "text/plain": [
       "     neg    neu    pos  compound  \\\n",
       "0  0.000  1.000  0.000    0.0000   \n",
       "1  0.101  0.899  0.000   -0.5267   \n",
       "2  0.000  0.774  0.226    0.5859   \n",
       "3  0.217  0.691  0.092   -0.3306   \n",
       "4  0.000  1.000  0.000    0.0000   \n",
       "\n",
       "                                                konu  \n",
       "0  [Highlight] De'Aaron Fox makes the turnaround ...  \n",
       "1  [Slater] Andrew Wiggins is probable for tomorr...  \n",
       "2  The Thunder Have 7 Players Score in Double Fig...  \n",
       "3  Matisse Thybulle has been a potent weapon for ...  \n",
       "4  GAME THREAD: Phoenix Suns (20-18) @ Cleveland ...  "
      ]
     },
     "execution_count": 10,
     "metadata": {},
     "output_type": "execute_result"
    }
   ],
   "source": [
    "df = pd.DataFrame.from_records(results)\n",
    "df.head()"
   ]
  },
  {
   "cell_type": "code",
   "execution_count": 11,
   "id": "defe5fa8",
   "metadata": {},
   "outputs": [
    {
     "data": {
      "text/html": [
       "<div>\n",
       "<style scoped>\n",
       "    .dataframe tbody tr th:only-of-type {\n",
       "        vertical-align: middle;\n",
       "    }\n",
       "\n",
       "    .dataframe tbody tr th {\n",
       "        vertical-align: top;\n",
       "    }\n",
       "\n",
       "    .dataframe thead th {\n",
       "        text-align: right;\n",
       "    }\n",
       "</style>\n",
       "<table border=\"1\" class=\"dataframe\">\n",
       "  <thead>\n",
       "    <tr style=\"text-align: right;\">\n",
       "      <th></th>\n",
       "      <th>neg</th>\n",
       "      <th>neu</th>\n",
       "      <th>pos</th>\n",
       "      <th>compound</th>\n",
       "      <th>konu</th>\n",
       "      <th>label</th>\n",
       "    </tr>\n",
       "  </thead>\n",
       "  <tbody>\n",
       "    <tr>\n",
       "      <th>0</th>\n",
       "      <td>0.000</td>\n",
       "      <td>1.000</td>\n",
       "      <td>0.000</td>\n",
       "      <td>0.0000</td>\n",
       "      <td>[Highlight] De'Aaron Fox makes the turnaround ...</td>\n",
       "      <td>0</td>\n",
       "    </tr>\n",
       "    <tr>\n",
       "      <th>1</th>\n",
       "      <td>0.101</td>\n",
       "      <td>0.899</td>\n",
       "      <td>0.000</td>\n",
       "      <td>-0.5267</td>\n",
       "      <td>[Slater] Andrew Wiggins is probable for tomorr...</td>\n",
       "      <td>-1</td>\n",
       "    </tr>\n",
       "    <tr>\n",
       "      <th>2</th>\n",
       "      <td>0.000</td>\n",
       "      <td>0.774</td>\n",
       "      <td>0.226</td>\n",
       "      <td>0.5859</td>\n",
       "      <td>The Thunder Have 7 Players Score in Double Fig...</td>\n",
       "      <td>1</td>\n",
       "    </tr>\n",
       "    <tr>\n",
       "      <th>3</th>\n",
       "      <td>0.217</td>\n",
       "      <td>0.691</td>\n",
       "      <td>0.092</td>\n",
       "      <td>-0.3306</td>\n",
       "      <td>Matisse Thybulle has been a potent weapon for ...</td>\n",
       "      <td>-1</td>\n",
       "    </tr>\n",
       "    <tr>\n",
       "      <th>4</th>\n",
       "      <td>0.000</td>\n",
       "      <td>1.000</td>\n",
       "      <td>0.000</td>\n",
       "      <td>0.0000</td>\n",
       "      <td>GAME THREAD: Phoenix Suns (20-18) @ Cleveland ...</td>\n",
       "      <td>0</td>\n",
       "    </tr>\n",
       "  </tbody>\n",
       "</table>\n",
       "</div>"
      ],
      "text/plain": [
       "     neg    neu    pos  compound  \\\n",
       "0  0.000  1.000  0.000    0.0000   \n",
       "1  0.101  0.899  0.000   -0.5267   \n",
       "2  0.000  0.774  0.226    0.5859   \n",
       "3  0.217  0.691  0.092   -0.3306   \n",
       "4  0.000  1.000  0.000    0.0000   \n",
       "\n",
       "                                                konu  label  \n",
       "0  [Highlight] De'Aaron Fox makes the turnaround ...      0  \n",
       "1  [Slater] Andrew Wiggins is probable for tomorr...     -1  \n",
       "2  The Thunder Have 7 Players Score in Double Fig...      1  \n",
       "3  Matisse Thybulle has been a potent weapon for ...     -1  \n",
       "4  GAME THREAD: Phoenix Suns (20-18) @ Cleveland ...      0  "
      ]
     },
     "execution_count": 11,
     "metadata": {},
     "output_type": "execute_result"
    }
   ],
   "source": [
    "df['label'] = 0\n",
    "df.loc[df['compound'] > 0.2, 'label'] = 1\n",
    "df.loc[df['compound'] < -0.2, 'label'] = -1\n",
    "df.head()"
   ]
  },
  {
   "cell_type": "code",
   "execution_count": 12,
   "id": "2a217da3",
   "metadata": {},
   "outputs": [],
   "source": [
    "df2 = df[['konu', 'label']]"
   ]
  },
  {
   "cell_type": "code",
   "execution_count": 13,
   "id": "4028b23c",
   "metadata": {},
   "outputs": [],
   "source": [
    "df2.to_csv('Reddit_konular.csv', encoding='utf-8', index=False)"
   ]
  },
  {
   "cell_type": "code",
   "execution_count": 14,
   "id": "37309011",
   "metadata": {},
   "outputs": [
    {
     "data": {
      "text/plain": [
       " 0    348\n",
       " 1    246\n",
       "-1    168\n",
       "Name: label, dtype: int64"
      ]
     },
     "execution_count": 14,
     "metadata": {},
     "output_type": "execute_result"
    }
   ],
   "source": [
    "df.label.value_counts()"
   ]
  },
  {
   "cell_type": "code",
   "execution_count": 15,
   "id": "c44fa8f1",
   "metadata": {},
   "outputs": [
    {
     "data": {
      "text/plain": [
       " 0    45.669291\n",
       " 1    32.283465\n",
       "-1    22.047244\n",
       "Name: label, dtype: float64"
      ]
     },
     "execution_count": 15,
     "metadata": {},
     "output_type": "execute_result"
    }
   ],
   "source": [
    "df.label.value_counts(normalize=True) * 100"
   ]
  },
  {
   "cell_type": "code",
   "execution_count": 16,
   "id": "90061d67",
   "metadata": {},
   "outputs": [
    {
     "name": "stdout",
     "output_type": "stream",
     "text": [
      "Olumlu açıklamalar:\n",
      "\n",
      "['The Thunder Have 7 Players Score in Double Figures in a 150-117 Win Over the Celtics',\n",
      " '[Weiss] Marcus Smart was fined $35K by the NBA for his language toward an official as he was ejected in OKC.',\n",
      " 'How many games would a team of the 8 best players in the league win in a season if they had to play every possession 4 vs 5?',\n",
      " '[Highlight] Pacers fan hits a half-court shot to win just $500',\n",
      " 'Lebron, KD, and Steph Reportedly Wants to Play Until 40s, Can they do it?']\n",
      "Olumsuz açıklamlar:\n",
      "\n",
      "['[Slater] Andrew Wiggins is probable for tomorrow’s game against the Magic. It is expected to be the end of the longest absence of his career. He’s missed the previous 15 games. Never missed more '\n",
      " 'than 11 total games in any season.',\n",
      " 'Matisse Thybulle has been a potent weapon for the Sixers... so it’s awkward how little he plays',\n",
      " \"[Highlight] Tari Eason shows hustle to recover the ball then sends it to Jae'Sean Tate who hits a 3 to give the Rockets the lead over the Jazz. This caps off a 16-7 run. This is Tate's first game \"\n",
      " 'back from injury after missing the previous 35 games.',\n",
      " \"LeBron “[The losing is] not sitting well with me. I don't like having accomplishments when it comes in a losing effort. ... Breaking records or setting records or passing greats in a losing effort \"\n",
      " 'has never been a DNA of mine.\"',\n",
      " 'Paolo Banchero 25 points 8 boards 7 assists 1 steal vs OKC Thunder']\n"
     ]
    }
   ],
   "source": [
    "print(\"Olumlu açıklamalar:\\n\")\n",
    "pprint(list(df[df['label'] == 1].konu)[:5], width=200)\n",
    "\n",
    "print(\"Olumsuz açıklamlar:\\n\")\n",
    "pprint(list(df[df['label'] == -1].konu)[:5], width=200)"
   ]
  },
  {
   "cell_type": "code",
   "execution_count": 17,
   "id": "7cc85dee",
   "metadata": {},
   "outputs": [
    {
     "data": {
      "image/png": "[encoded data removed]",
      "text/plain": [
       "<Figure size 800x800 with 1 Axes>"
      ]
     },
     "metadata": {},
     "output_type": "display_data"
    }
   ],
   "source": [
    "fig, ax = plt.subplots(figsize=(8, 8))\n",
    "\n",
    "counts = df.label.value_counts(normalize=True) * 100\n",
    "\n",
    "sns.barplot(x=counts.index, y=counts, ax=ax)\n",
    "\n",
    "ax.set_xticklabels(['olumsuz', 'Duygu Belirtmeyen', 'olumlu'])\n",
    "ax.set_ylabel(\"Dağılım\")\n",
    "\n",
    "plt.show()"
   ]
  },
  {
   "cell_type": "code",
   "execution_count": null,
   "id": "aa27e27f",
   "metadata": {},
   "outputs": [],
   "source": []
  }
 ],
 "metadata": {
  "kernelspec": {
   "display_name": "Python 3 (ipykernel)",
   "language": "python",
   "name": "python3"
  },
  "language_info": {
   "codemirror_mode": {
    "name": "ipython",
    "version": 3
   },
   "file_extension": ".py",
   "mimetype": "text/x-python",
   "name": "python",
   "nbconvert_exporter": "python",
   "pygments_lexer": "ipython3",
   "version": "3.9.13"
  }
 },
 "nbformat": 4,
 "nbformat_minor": 5
}
